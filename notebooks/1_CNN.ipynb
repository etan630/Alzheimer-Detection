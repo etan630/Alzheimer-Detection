{
 "cells": [
  {
   "attachments": {},
   "cell_type": "markdown",
   "metadata": {},
   "source": [
    "Import Libraries"
   ]
  },
  {
   "cell_type": "code",
   "execution_count": 5,
   "metadata": {},
   "outputs": [
    {
     "name": "stdout",
     "output_type": "stream",
     "text": [
      "Version information\n",
      "python: 3.11.5 (main, Sep 11 2023, 08:17:37) [Clang 14.0.6 ]\n",
      "matplotlib: 3.9.2\n",
      "numpy: 1.23.5\n",
      "current working directory: /Users/erin/Library/Mobile Documents/com~apple~CloudDocs/1_gt/2_gatechJunior/Fall24/CS4641/Alzheimer-Detection/notebooks\n",
      "list of files: ['2_Model_2.ipynb', '1_CNN.ipynb', '3_Model_3.ipynb']\n",
      "cv2 version: 4.6.0\n"
     ]
    }
   ],
   "source": [
    "# helps make code more compatible between Python 2 and Python 3\n",
    "from __future__ import absolute_import, division, print_function\n",
    "# allows for copying or deleting directories in bulk\n",
    "from distutils.dir_util import copy_tree, remove_tree\n",
    "\n",
    "# ensures that matplotlib plots are disdplayed inside the notebook \n",
    "%matplotlib inline\n",
    "\n",
    "# provides access to system-specific parameters and functions\n",
    "import sys\n",
    "# helps with file and directory operations, enviornment variables, and process control\n",
    "import os\n",
    "# for image loading, processing, and manipulation\n",
    "import cv2\n",
    "\n",
    "import matplotlib # for plotting and visualiztion\n",
    "import matplotlib.pyplot as plt\n",
    "import numpy as np\n",
    "import pandas as pd\n",
    "import warnings\n",
    "warnings.filterwarnings('ignore')\n",
    "from mpl_toolkits.mplot3d import axes3d # for creating 3D plots\n",
    "from tqdm import tqdm # library used for displaying progress bars for loops\n",
    "\n",
    "import tensorflow as tf\n",
    "from tensorflow.keras.layers import Input, Lambda, Dense, Flatten, Dropout\n",
    "from tensorflow.keras.models import Model, Sequential\n",
    "from tensorflow.keras.utils import plot_model, image_dataset_from_directory\n",
    "from tensorflow.keras.callbacks import EarlyStopping\n",
    "from random import randint\n",
    "\n",
    "print(\"Version information\")\n",
    "\n",
    "print(\"python: {}\".format(sys.version))\n",
    "print(\"matplotlib: {}\".format(matplotlib.__version__))\n",
    "print(\"numpy: {}\".format(np.__version__))\n",
    "print(\"current working directory:\", os.getcwd()) # prints curr working directory\n",
    "print(\"list of files:\", os.listdir())  # Lists the files in the current directory\n",
    "print(\"cv2 version:\", cv2.__version__)\n",
    "\n",
    "# Load image\n",
    "import imageio\n",
    "\n",
    "# automatically reloads modules before executing code\n",
    "%load_ext autoreload\n",
    "%autoreload 2"
   ]
  },
  {
   "attachments": {},
   "cell_type": "markdown",
   "metadata": {},
   "source": [
    "directory setup"
   ]
  },
  {
   "cell_type": "code",
   "execution_count": null,
   "metadata": {},
   "outputs": [],
   "source": [
    "# define path to data\n",
    "data_dir = \n",
    "# split data\n",
    "split_dir =\n",
    "# create split directory\n",
    "os.makedirs(split_dir, exist_ok=True)\n",
    "\n",
    "train_ratio = 0.7\n",
    "test_ratio = 0.2\n",
    "val_ratio = 0.1\n",
    "\n",
    "classes = ['Mild Dementia', 'Moderate Dementia', 'Non Demented', 'Very mild Dementia']"
   ]
  },
  {
   "attachments": {},
   "cell_type": "markdown",
   "metadata": {},
   "source": [
    "directory for splits"
   ]
  },
  {
   "cell_type": "code",
   "execution_count": null,
   "metadata": {},
   "outputs": [],
   "source": [
    "for split in ['train', 'validation', 'test']:\n",
    "    split_path = os.path.join(split_dir, split)\n",
    "    os.makedirs(split_patj, exist_ok=True)\n",
    "    for cls in classes:\n",
    "        cls_path = os.path.join(split_path, cls)\n",
    "        os.makedirs(cls_path, exist_ok=True)"
   ]
  }
 ],
 "metadata": {
  "kernelspec": {
   "display_name": "alzheimers_project",
   "language": "python",
   "name": "python3"
  },
  "language_info": {
   "codemirror_mode": {
    "name": "ipython",
    "version": 3
   },
   "file_extension": ".py",
   "mimetype": "text/x-python",
   "name": "python",
   "nbconvert_exporter": "python",
   "pygments_lexer": "ipython3",
   "version": "3.11.5"
  },
  "orig_nbformat": 4
 },
 "nbformat": 4,
 "nbformat_minor": 2
}
