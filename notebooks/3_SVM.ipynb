{
 "cells": [
  {
   "attachments": {},
   "cell_type": "markdown",
   "metadata": {},
   "source": [
    "## Setup and Imports\n",
    "\n",
    "Importing required libraries and dependencies."
   ]
  },
  {
   "cell_type": "code",
   "execution_count": 1,
   "metadata": {},
   "outputs": [],
   "source": [
    "# ensures that matplotlib plots are disdplayed inside the notebook \n",
    "%matplotlib inline\n",
    "\n",
    "# provides access to system-specific parameters and functions\n",
    "import sys\n",
    "# helps with file and directory operations, enviornment variables, and process control\n",
    "import os\n",
    "# for image loading, processing, and manipulation\n",
    "import cv2\n",
    "import shutil\n",
    "\n",
    "import matplotlib # for plotting and visualization\n",
    "import matplotlib.pyplot as plt\n",
    "import numpy as np\n",
    "import pandas as pd\n",
    "import warnings\n",
    "warnings.filterwarnings('ignore')\n",
    "from mpl_toolkits.mplot3d import axes3d # for creating 3D plots\n",
    "from tqdm import tqdm # library used for displaying progress bars for loops\n",
    "from sklearn.preprocessing import label_binarize\n",
    "from sklearn.model_selection import train_test_split\n",
    "from sklearn.metrics import (\n",
    "    accuracy_score,\n",
    "    precision_score,\n",
    "    recall_score,\n",
    "    f1_score,\n",
    "    confusion_matrix,\n",
    "    roc_curve,\n",
    "    auc,\n",
    ")\n",
    "\n",
    "import pathlib\n",
    "import tensorflow as tf\n",
    "from tensorflow.keras import layers\n",
    "\n",
    "from tensorflow.keras import Sequential\n",
    "from tensorflow.keras.preprocessing.image import ImageDataGenerator\n",
    "import random \n",
    "print(\"Version information\")\n",
    "\n",
    "print(\"python: {}\".format(sys.version))\n",
    "print(\"matplotlib: {}\".format(matplotlib.__version__))\n",
    "print(\"numpy: {}\".format(np.__version__))\n",
    "print(\"tensorflow: {}\".format(tf.__version__))\n",
    "print(\"current working directory:\", os.getcwd()) # prints curr working directory\n",
    "print(\"list of files:\", os.listdir())  # Lists the files in the current directory\n",
    "print(\"cv2 version:\", cv2.__version__)\n",
    "print(\"tensorflow: {}\".format(tf.__version__))\n",
    "\n",
    "# Load image\n",
    "import imageio\n",
    "\n",
    "# automatically reloads modules before executing code\n",
    "%load_ext autoreload\n",
    "%autoreload 2"
   ]
  }
 ],
 "metadata": {
  "kernelspec": {
   "display_name": "alzheimers_project",
   "language": "python",
   "name": "python3"
  },
  "language_info": {
   "codemirror_mode": {
    "name": "ipython",
    "version": 3
   },
   "file_extension": ".py",
   "mimetype": "text/x-python",
   "name": "python",
   "nbconvert_exporter": "python",
   "pygments_lexer": "ipython3",
   "version": "3.12.1"
  },
  "orig_nbformat": 4
 },
 "nbformat": 4,
 "nbformat_minor": 2
}
